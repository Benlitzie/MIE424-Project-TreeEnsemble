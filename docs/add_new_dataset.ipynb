{
 "cells": [
  {
   "cell_type": "code",
   "execution_count": 22,
   "metadata": {},
   "outputs": [],
   "source": [
    "import pandas as pd\n",
    "from sklearn.model_selection import train_test_split\n",
    "import os\n",
    "import pathlib\n",
    "\n",
    "def split_and_save_dataset(csv_file, dataset_name):\n",
    "    df = pd.read_csv(csv_file)\n",
    "\n",
    "    df_train, df_test = train_test_split(df, test_size=0, random_state=42)\n",
    "    \n",
    "    respath = '../src/resources/datasets/' + dataset_name\n",
    "\n",
    "    os.makedirs(respath, exist_ok=True)\n",
    "    \n",
    "    for i in range(1, 11):\n",
    "        train_filename = respath + f'/{dataset_name}.train{i}.csv'\n",
    "        test_filename = respath + f'/{dataset_name}.test{i}.csv'\n",
    "        \n",
    "        df_train.to_csv(train_filename, index=False)\n",
    "        df_test.to_csv(test_filename, index=False)\n"
   ]
  },
  {
   "cell_type": "code",
   "execution_count": 23,
   "metadata": {},
   "outputs": [],
   "source": [
    "csv_file = '../src/resources/datasets/CDC-Diabetes/CDC-Diabetes.csv'\n",
    "dataset_name = 'CDC-Diabetes'\n",
    "split_and_save_dataset(csv_file, dataset_name)"
   ]
  },
  {
   "cell_type": "code",
   "execution_count": 24,
   "metadata": {},
   "outputs": [
    {
     "name": "stdout",
     "output_type": "stream",
     "text": [
      "Index(['Pregnancies', 'Glucose', 'BloodPressure', 'SkinThickness', 'Insulin',\n",
      "       'BMI', 'DiabetesPedigreeFunction', 'Age', 'Outcome'],\n",
      "      dtype='object')\n"
     ]
    }
   ],
   "source": [
    "df_example = pd.read_csv(\"../src/resources/datasets/CDC-Diabetes/CDC-Diabetes.train1.csv\")\n",
    "print(df_example.columns)"
   ]
  },
  {
   "cell_type": "code",
   "execution_count": 21,
   "metadata": {},
   "outputs": [],
   "source": [
    "import os\n",
    "import pandas as pd\n",
    "from sklearn.ensemble import RandomForestClassifier\n",
    "from sklearn.tree import _tree\n",
    "\n",
    "def extract_tree_structure(tree, feature_names):\n",
    "    tree_ = tree.tree_\n",
    "    feature_name = [\n",
    "        feature_names[i] if i != _tree.TREE_UNDEFINED else \"undefined!\"\n",
    "        for i in tree_.feature\n",
    "    ]\n",
    "    lines = []  # Use a list to collect lines, which will be joined into the final output\n",
    "\n",
    "    def recurse(node, depth):\n",
    "        if tree_.feature[node] != _tree.TREE_UNDEFINED:\n",
    "            name = feature_name[node]\n",
    "            threshold = tree_.threshold[node]\n",
    "            line = f\"{node} IN {tree_.children_left[node]} {tree_.children_right[node]} \" \\\n",
    "                   f\"{feature_names.index(name)} {threshold:.6f} {depth} -1\"\n",
    "            lines.append(line)\n",
    "            recurse(tree_.children_left[node], depth + 1)\n",
    "            recurse(tree_.children_right[node], depth + 1)\n",
    "        else:\n",
    "            line = f\"{node} LN -1 -1 -1 -1 {depth} {int(tree_.value[node].argmax())}\"\n",
    "            lines.append(line)\n",
    "\n",
    "    recurse(0, 0)\n",
    "    return \"\\n\".join(lines)\n",
    "\n",
    "\n",
    "def train_and_save_forest(dataset_name, target_var, n_trees=10, max_depth=3):\n",
    "    dataset_path = f\"../src/resources/datasets/{dataset_name}\"\n",
    "    save_path = f\"../src/resources/forests/{dataset_name}\"\n",
    "    os.makedirs(save_path, exist_ok=True)\n",
    "\n",
    "    for i in range(1, 11):  # Assuming 10 training sets as per your requirement\n",
    "        df_train = pd.read_csv(f\"{dataset_path}/{dataset_name}.train{i}.csv\")\n",
    "        \n",
    "        X_train = df_train.drop(target_var, axis=1)\n",
    "        y_train = df_train[target_var]  # Target variable\n",
    "        \n",
    "        rf = RandomForestClassifier(n_estimators=n_trees, max_depth=max_depth, random_state=42)\n",
    "        rf.fit(X_train, y_train)\n",
    "        \n",
    "        # Formatting the .txt file content\n",
    "        content = f\"DATASET_NAME: {dataset_name}.train{i}.csv\\n\" \\\n",
    "                  f\"ENSEMBLE: RF\\n\" \\\n",
    "                  f\"NB_TREES: {n_trees}\\n\" \\\n",
    "                  f\"NB_FEATURES: {len(X_train.columns)}\\n\" \\\n",
    "                  f\"NB_CLASSES: {len(pd.unique(y_train))}\\n\" \\\n",
    "                  f\"MAX_TREE_DEPTH: {max_depth}\\n\"\n",
    "        content += \"Format: node / node type (LN - leave node, IN - internal node) left child / right child / feature / threshold / node_depth / majority class (starts with index 0)\\n\\n\"  # Another newline for separation\n",
    "        \n",
    "        for t_idx, tree in enumerate(rf.estimators_):\n",
    "            content += f\"[TREE {t_idx}]\\nNB_NODES: {tree.tree_.node_count}\\n\"\n",
    "            content += extract_tree_structure(tree, list(X_train.columns)) + \"\\n\\n\" \n",
    "\n",
    "        with open(f\"{save_path}/{dataset_name}.RF{i}.txt\", 'w') as file:\n",
    "            file.write(content)\n",
    "\n",
    "target_var = 'Outcome' \n",
    "train_and_save_forest(dataset_name, target_var)\n"
   ]
  }
 ],
 "metadata": {
  "kernelspec": {
   "display_name": "base",
   "language": "python",
   "name": "python3"
  },
  "language_info": {
   "codemirror_mode": {
    "name": "ipython",
    "version": 3
   },
   "file_extension": ".py",
   "mimetype": "text/x-python",
   "name": "python",
   "nbconvert_exporter": "python",
   "pygments_lexer": "ipython3",
   "version": "3.9.13"
  }
 },
 "nbformat": 4,
 "nbformat_minor": 2
}
